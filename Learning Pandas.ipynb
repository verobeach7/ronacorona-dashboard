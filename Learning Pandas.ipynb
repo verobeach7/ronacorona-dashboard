{
 "cells": [
  {
   "cell_type": "code",
   "execution_count": 20,
   "id": "0761ef1a-4140-4794-b53b-ede9e9b4776c",
   "metadata": {
    "scrolled": true
   },
   "outputs": [
    {
     "name": "stdout",
     "output_type": "stream",
     "text": [
      "<class 'pandas.core.frame.DataFrame'>\n",
      "      FIPS Admin2    Province_State  Country_Region          Last_Update  \\\n",
      "0      NaN    NaN               NaN     Afghanistan  2020-08-13 04:29:15   \n",
      "1      NaN    NaN               NaN         Albania  2020-08-13 04:29:15   \n",
      "2      NaN    NaN               NaN         Algeria  2020-08-13 04:29:15   \n",
      "3      NaN    NaN               NaN         Andorra  2020-08-13 04:29:15   \n",
      "4      NaN    NaN               NaN          Angola  2020-08-13 04:29:15   \n",
      "...    ...    ...               ...             ...                  ...   \n",
      "3974   NaN    NaN           Unknown         Ukraine  2020-08-13 04:29:15   \n",
      "3975   NaN    NaN               NaN           Nauru  2020-08-13 04:29:15   \n",
      "3976   NaN    NaN              Niue     New Zealand  2020-08-13 04:29:15   \n",
      "3977   NaN    NaN               NaN          Tuvalu  2020-08-13 04:29:15   \n",
      "3978   NaN    NaN  Pitcairn Islands  United Kingdom  2020-08-13 04:29:15   \n",
      "\n",
      "           Lat       Long_  Confirmed  Deaths  Recovered  Active  \\\n",
      "0     33.93911   67.709953      37431    1358      26694    9379   \n",
      "1     41.15330   20.168300       6817     208       3552    3057   \n",
      "2     28.03390    1.659600      36699    1333      25627    9739   \n",
      "3     42.50630    1.521800        977      53        855      69   \n",
      "4    -11.20270   17.873900       1762      80        577    1105   \n",
      "...        ...         ...        ...     ...        ...     ...   \n",
      "3974       NaN         NaN          0       0          0       0   \n",
      "3975  -0.52280  166.931500          0       0          0       0   \n",
      "3976 -19.05440 -169.867200          0       0          0       0   \n",
      "3977  -7.10950  177.649300          0       0          0       0   \n",
      "3978 -24.37680 -128.324200          0       0          0       0   \n",
      "\n",
      "                          Combined_Key  Incidence_Rate  Case-Fatality_Ratio  \n",
      "0                          Afghanistan       96.153597             3.628009  \n",
      "1                              Albania      236.882341             3.051196  \n",
      "2                              Algeria       83.690142             3.632252  \n",
      "3                              Andorra     1264.479389             5.424770  \n",
      "4                               Angola        5.361120             4.540295  \n",
      "...                                ...             ...                  ...  \n",
      "3974                  Unknown, Ukraine        0.000000             0.000000  \n",
      "3975                             Nauru        0.000000             0.000000  \n",
      "3976                 Niue, New Zealand        0.000000             0.000000  \n",
      "3977                            Tuvalu        0.000000             0.000000  \n",
      "3978  Pitcairn Islands, United Kingdom        0.000000             0.000000  \n",
      "\n",
      "[3979 rows x 14 columns]\n",
      "<class 'pandas.core.series.Series'>\n",
      "Confirmed    20686122\n",
      "Deaths         802648\n",
      "Recovered    12828273\n",
      "dtype: int64\n"
     ]
    }
   ],
   "source": [
    "import pandas as pd\n",
    "\n",
    "daily_df=pd.read_csv(\"data/daily_report.csv\")\n",
    "# 일부 컬럼만 선택하기 위해서는 '[[]]'를 사용\n",
    "# .sum()을 이용하여 컬럼의 합계를 구할 수 있음\n",
    "print(type(daily_df))\n",
    "print(daily_df)\n",
    "\n",
    "daily_df=daily_df[[\"Confirmed\",\"Deaths\",\"Recovered\"]].sum()\n",
    "print(type(daily_df))\n",
    "print(daily_df)"
   ]
  },
  {
   "cell_type": "code",
   "execution_count": 22,
   "id": "2494df13-fd97-4134-abe5-fd1b4a45f6da",
   "metadata": {},
   "outputs": [],
   "source": [
    "# reset_index()를 이용하여 Dataframe으로 다시 변경해줄 수 있음\n",
    "daily_df = daily_df.reset_index(name=\"count\")"
   ]
  },
  {
   "cell_type": "code",
   "execution_count": 23,
   "id": "665a1197-8af2-4b5e-88ac-bfdebc09c073",
   "metadata": {},
   "outputs": [
    {
     "name": "stdout",
     "output_type": "stream",
     "text": [
      "<class 'pandas.core.frame.DataFrame'>\n"
     ]
    }
   ],
   "source": [
    "print(type(daily_df))"
   ]
  },
  {
   "cell_type": "code",
   "execution_count": 24,
   "id": "25e84b16-c9a6-490c-b09d-7569e05eae69",
   "metadata": {},
   "outputs": [
    {
     "data": {
      "text/html": [
       "<div>\n",
       "<style scoped>\n",
       "    .dataframe tbody tr th:only-of-type {\n",
       "        vertical-align: middle;\n",
       "    }\n",
       "\n",
       "    .dataframe tbody tr th {\n",
       "        vertical-align: top;\n",
       "    }\n",
       "\n",
       "    .dataframe thead th {\n",
       "        text-align: right;\n",
       "    }\n",
       "</style>\n",
       "<table border=\"1\" class=\"dataframe\">\n",
       "  <thead>\n",
       "    <tr style=\"text-align: right;\">\n",
       "      <th></th>\n",
       "      <th>index</th>\n",
       "      <th>count</th>\n",
       "    </tr>\n",
       "  </thead>\n",
       "  <tbody>\n",
       "    <tr>\n",
       "      <th>0</th>\n",
       "      <td>Confirmed</td>\n",
       "      <td>20686122</td>\n",
       "    </tr>\n",
       "    <tr>\n",
       "      <th>1</th>\n",
       "      <td>Deaths</td>\n",
       "      <td>802648</td>\n",
       "    </tr>\n",
       "    <tr>\n",
       "      <th>2</th>\n",
       "      <td>Recovered</td>\n",
       "      <td>12828273</td>\n",
       "    </tr>\n",
       "  </tbody>\n",
       "</table>\n",
       "</div>"
      ],
      "text/plain": [
       "       index     count\n",
       "0  Confirmed  20686122\n",
       "1     Deaths    802648\n",
       "2  Recovered  12828273"
      ]
     },
     "execution_count": 24,
     "metadata": {},
     "output_type": "execute_result"
    }
   ],
   "source": [
    "daily_df"
   ]
  },
  {
   "cell_type": "code",
   "execution_count": 25,
   "id": "21a9f579-a880-478c-a007-91cf65cb8706",
   "metadata": {},
   "outputs": [
    {
     "name": "stdout",
     "output_type": "stream",
     "text": [
      "   level_0      index     count\n",
      "0        0  Confirmed  20686122\n",
      "1        1     Deaths    802648\n",
      "2        2  Recovered  12828273\n"
     ]
    }
   ],
   "source": [
    "# print()를 사용한면 타입은 그대로이나 보여지기로는 Series처럼 보여짐\n",
    "print(daily_df.reset_index())"
   ]
  },
  {
   "cell_type": "code",
   "execution_count": 26,
   "id": "74000906-1639-4206-a73a-439653d1aa26",
   "metadata": {},
   "outputs": [
    {
     "data": {
      "text/plain": [
       "pandas.core.frame.DataFrame"
      ]
     },
     "execution_count": 26,
     "metadata": {},
     "output_type": "execute_result"
    }
   ],
   "source": [
    "type(daily_df)"
   ]
  },
  {
   "cell_type": "code",
   "execution_count": 27,
   "id": "7478464a-723d-42ef-9439-16a8ef4b0abe",
   "metadata": {},
   "outputs": [
    {
     "data": {
      "text/html": [
       "<div>\n",
       "<style scoped>\n",
       "    .dataframe tbody tr th:only-of-type {\n",
       "        vertical-align: middle;\n",
       "    }\n",
       "\n",
       "    .dataframe tbody tr th {\n",
       "        vertical-align: top;\n",
       "    }\n",
       "\n",
       "    .dataframe thead th {\n",
       "        text-align: right;\n",
       "    }\n",
       "</style>\n",
       "<table border=\"1\" class=\"dataframe\">\n",
       "  <thead>\n",
       "    <tr style=\"text-align: right;\">\n",
       "      <th></th>\n",
       "      <th>index</th>\n",
       "      <th>count</th>\n",
       "    </tr>\n",
       "  </thead>\n",
       "  <tbody>\n",
       "    <tr>\n",
       "      <th>0</th>\n",
       "      <td>Confirmed</td>\n",
       "      <td>20686122</td>\n",
       "    </tr>\n",
       "    <tr>\n",
       "      <th>1</th>\n",
       "      <td>Deaths</td>\n",
       "      <td>802648</td>\n",
       "    </tr>\n",
       "    <tr>\n",
       "      <th>2</th>\n",
       "      <td>Recovered</td>\n",
       "      <td>12828273</td>\n",
       "    </tr>\n",
       "  </tbody>\n",
       "</table>\n",
       "</div>"
      ],
      "text/plain": [
       "       index     count\n",
       "0  Confirmed  20686122\n",
       "1     Deaths    802648\n",
       "2  Recovered  12828273"
      ]
     },
     "execution_count": 27,
     "metadata": {},
     "output_type": "execute_result"
    }
   ],
   "source": [
    "daily_df"
   ]
  },
  {
   "cell_type": "code",
   "execution_count": 28,
   "id": "5fa0953d-590d-479c-a42e-a78d28a90378",
   "metadata": {},
   "outputs": [],
   "source": [
    "daily_df = daily_df.rename(columns={\"index\": \"condition\"})"
   ]
  },
  {
   "cell_type": "code",
   "execution_count": 29,
   "id": "3868dc6d-50f0-4d72-9362-9234b6e72be5",
   "metadata": {},
   "outputs": [
    {
     "data": {
      "text/html": [
       "<div>\n",
       "<style scoped>\n",
       "    .dataframe tbody tr th:only-of-type {\n",
       "        vertical-align: middle;\n",
       "    }\n",
       "\n",
       "    .dataframe tbody tr th {\n",
       "        vertical-align: top;\n",
       "    }\n",
       "\n",
       "    .dataframe thead th {\n",
       "        text-align: right;\n",
       "    }\n",
       "</style>\n",
       "<table border=\"1\" class=\"dataframe\">\n",
       "  <thead>\n",
       "    <tr style=\"text-align: right;\">\n",
       "      <th></th>\n",
       "      <th>condition</th>\n",
       "      <th>count</th>\n",
       "    </tr>\n",
       "  </thead>\n",
       "  <tbody>\n",
       "    <tr>\n",
       "      <th>0</th>\n",
       "      <td>Confirmed</td>\n",
       "      <td>20686122</td>\n",
       "    </tr>\n",
       "    <tr>\n",
       "      <th>1</th>\n",
       "      <td>Deaths</td>\n",
       "      <td>802648</td>\n",
       "    </tr>\n",
       "    <tr>\n",
       "      <th>2</th>\n",
       "      <td>Recovered</td>\n",
       "      <td>12828273</td>\n",
       "    </tr>\n",
       "  </tbody>\n",
       "</table>\n",
       "</div>"
      ],
      "text/plain": [
       "   condition     count\n",
       "0  Confirmed  20686122\n",
       "1     Deaths    802648\n",
       "2  Recovered  12828273"
      ]
     },
     "execution_count": 29,
     "metadata": {},
     "output_type": "execute_result"
    }
   ],
   "source": [
    "daily_df"
   ]
  }
 ],
 "metadata": {
  "kernelspec": {
   "display_name": "Python 3 (ipykernel)",
   "language": "python",
   "name": "python3"
  },
  "language_info": {
   "codemirror_mode": {
    "name": "ipython",
    "version": 3
   },
   "file_extension": ".py",
   "mimetype": "text/x-python",
   "name": "python",
   "nbconvert_exporter": "python",
   "pygments_lexer": "ipython3",
   "version": "3.13.2"
  }
 },
 "nbformat": 4,
 "nbformat_minor": 5
}
