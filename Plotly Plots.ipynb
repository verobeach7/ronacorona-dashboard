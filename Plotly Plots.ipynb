{
 "cells": [
  {
   "cell_type": "code",
   "execution_count": null,
   "id": "879d5b5d-4ed7-4240-94cb-956c651d954f",
   "metadata": {},
   "outputs": [
    {
     "ename": "SyntaxError",
     "evalue": "invalid syntax. Perhaps you forgot a comma? (2506193320.py, line 8)",
     "output_type": "error",
     "traceback": [
      "  \u001b[36mCell\u001b[39m\u001b[36m \u001b[39m\u001b[32mIn[29]\u001b[39m\u001b[32m, line 8\u001b[39m\n\u001b[31m    \u001b[39m\u001b[31mtemplate=\"plotly_dark\"\u001b[39m\n             ^\n\u001b[31mSyntaxError\u001b[39m\u001b[31m:\u001b[39m invalid syntax. Perhaps you forgot a comma?\n"
     ]
    }
   ],
   "source": [
    "import plotly.express as px\n",
    "from data import countries_df\n",
    "\n",
    "fig = px.scatter_geo(\n",
    "    countries_df,\n",
    "    locations=\"Country_Region\",\n",
    "    locationmode=\"country names\",\n",
    "    template=\"plotly_dark\",\n",
    "    color=\"Confirmed\",\n",
    "    size=\"Confirmed\",\n",
    "    size_max=30,\n",
    "    hover_name=\"Country_Region\",\n",
    "    hover_data={\n",
    "        # \"Confirmed\": True,\n",
    "        \"Confirmed\": \":,\",\n",
    "        \"Recovered\": \":,\",\n",
    "        \"Deaths\": \":,\",\n",
    "        \"Country_Region\": False,\n",
    "    },\n",
    ")\n",
    "fig.show()"
   ]
  }
 ],
 "metadata": {
  "kernelspec": {
   "display_name": "env",
   "language": "python",
   "name": "python3"
  },
  "language_info": {
   "codemirror_mode": {
    "name": "ipython",
    "version": 3
   },
   "file_extension": ".py",
   "mimetype": "text/x-python",
   "name": "python",
   "nbconvert_exporter": "python",
   "pygments_lexer": "ipython3",
   "version": "3.13.2"
  }
 },
 "nbformat": 4,
 "nbformat_minor": 5
}
